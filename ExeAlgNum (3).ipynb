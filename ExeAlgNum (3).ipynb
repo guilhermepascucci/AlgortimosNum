{
 "cells": [
  {
   "cell_type": "code",
   "execution_count": null,
   "id": "db3fa267",
   "metadata": {},
   "outputs": [],
   "source": [
    "##Nome: Guilherme Pascucci Coelho da Cruz  RA:10314281\n",
    "##Nome: Ian Miranda da Cunha  RA: 10409669"
   ]
  },
  {
   "cell_type": "code",
   "execution_count": 2,
   "id": "03d467b4",
   "metadata": {},
   "outputs": [
    {
     "name": "stdout",
     "output_type": "stream",
     "text": [
      "Testando sistema 2x2:\n",
      "Tolerância: 0.1, Solução: [-0.06944444  0.625     ], Iterações: 4, Tempo: 0.02616 s\n",
      "Tolerância: 0.01, Solução: [-0.07175926  0.64583333], Iterações: 6, Tempo: 0.00100 s\n",
      "Tolerância: 0.001, Solução: [-0.07118056  0.64287551], Iterações: 9, Tempo: 0.00100 s\n",
      "Tolerância: 0.0001, Solução: [-0.07146991  0.64285408], Iterações: 11, Tempo: 0.00346 s\n",
      "------------------------------------------------------------\n",
      "Testando sistema 3x3:\n",
      "Tolerância: 0.1, Solução: [ 1.30219918  1.55808255 -2.15803155], Iterações: 5, Tempo: 0.00117 s\n",
      "Tolerância: 0.01, Solução: [ 1.32099297  1.54314334 -2.16991923], Iterações: 8, Tempo: 0.00160 s\n",
      "Tolerância: 0.001, Solução: [ 1.32085662  1.54331707 -2.17289358], Iterações: 11, Tempo: 0.00137 s\n",
      "Tolerância: 0.0001, Solução: [ 1.32099474  1.54320364 -2.17281627], Iterações: 14, Tempo: 0.00167 s\n",
      "------------------------------------------------------------\n",
      "Testando sistema 4x4:\n",
      "Tolerância: 0.1, Solução: [-1.64208744  7.14019207 14.39835513  8.11139454], Iterações: 15, Tempo: 0.00412 s\n",
      "Tolerância: 0.01, Solução: [-1.72327279  7.2527134  14.57774974  8.19022954], Iterações: 23, Tempo: 0.00731 s\n",
      "Tolerância: 0.001, Solução: [-1.73249087  7.26549816 14.59813663  8.19918182], Iterações: 32, Tempo: 0.01121 s\n",
      "Tolerância: 0.0001, Solução: [-1.7332404   7.26653777 14.59979445  8.19990974], Iterações: 40, Tempo: 0.01473 s\n",
      "------------------------------------------------------------\n",
      "Testando sistema 5x5:\n",
      "Tolerância: 0.1, Solução: [4.16474067 4.68067084 5.60419605 6.78385643 6.58594051], Iterações: 7, Tempo: 0.00198 s\n",
      "Tolerância: 0.01, Solução: [4.17414372 4.69887516 5.62481563 6.80540503 6.60089589], Iterações: 10, Tempo: 0.00442 s\n",
      "Tolerância: 0.001, Solução: [4.17493496 4.70019721 5.62654193 6.80696793 6.60214263], Iterações: 12, Tempo: 0.00448 s\n",
      "Tolerância: 0.0001, Solução: [4.17511504 4.70049435 5.62693466 6.80731887 6.60242616], Iterações: 15, Tempo: 0.00609 s\n",
      "------------------------------------------------------------\n"
     ]
    }
   ],
   "source": [
    "import numpy as np\n",
    "import time\n",
    "\n",
    "def jacobi(A, b, tol=0.01, max_iterations=1000):\n",
    "    n = len(b)\n",
    "    x0 = np.zeros(n)  \n",
    "    x = np.copy(x0)\n",
    "\n",
    "    for iterations in range(max_iterations):\n",
    "        x0 = np.copy(x)  \n",
    "\n",
    "        for i in range(n):\n",
    "            sum_ = b[i]\n",
    "            for j in range(n):\n",
    "                if i != j:\n",
    "                    sum_ -= A[i, j] * x0[j]\n",
    "            x[i] = sum_ / A[i, i]\n",
    "\n",
    "        if np.linalg.norm(x - x0) < tol:\n",
    "            break\n",
    "\n",
    "    return x, iterations + 1\n",
    "\n",
    "systems = {\n",
    "    '2x2': (np.array([[4, 2], [-1, 3]]), np.array([1, 2])),\n",
    "    '3x3': (np.array([[9, -1, 2], [-1, 11, -2], [6, -1, 8]]), np.array([6, 20, -11])),\n",
    "    '4x4': (np.array([[4, -1, 2, 0], [2, 4, -1, 0], [1, -1, 2, -1], [0, 0, -1, 3]]), np.array([15, 11, 12, 10])),\n",
    "    '5x5': (np.array([[4, -1, 0, 0, 0], [-1, 4, -1, 0, 0], [0, -1, 4, -1, 0], [0, 0, -1, 4, -1], [0, 0, 0, -1, 3]]),\n",
    "            np.array([12, 9, 11, 15, 13]))\n",
    "}\n",
    "\n",
    "tolerances = [0.1, 0.01, 0.001, 0.0001]\n",
    "\n",
    "for dim, (A, b) in systems.items():\n",
    "    print(f\"Testando sistema {dim}:\")\n",
    "    for tol in tolerances:\n",
    "        start_time = time.time()\n",
    "        x, iterations = jacobi(A, b, tol=tol)\n",
    "        elapsed_time = time.time() - start_time\n",
    "        print(f\"Tolerância: {tol}, Solução: {x}, Iterações: {iterations}, Tempo: {elapsed_time:.5f} s\")\n",
    "    print(\"-\" * 60)"
   ]
  },
  {
   "cell_type": "code",
   "execution_count": null,
   "id": "cc24007e",
   "metadata": {},
   "outputs": [],
   "source": [
    "##3) Diminuir a tolerância no Método de Jacobi tem alguns impactos no processo de aproximação, como o aumento no número de iterações, o aumento no tempo de execução, a melhoria na precisão da solução, podendo ter riscos de divergência ou problemas na convergência."
   ]
  }
 ],
 "metadata": {
  "kernelspec": {
   "display_name": "Python 3 (ipykernel)",
   "language": "python",
   "name": "python3"
  },
  "language_info": {
   "codemirror_mode": {
    "name": "ipython",
    "version": 3
   },
   "file_extension": ".py",
   "mimetype": "text/x-python",
   "name": "python",
   "nbconvert_exporter": "python",
   "pygments_lexer": "ipython3",
   "version": "3.9.12"
  }
 },
 "nbformat": 4,
 "nbformat_minor": 5
}
